{
 "cells": [
  {
   "cell_type": "code",
   "execution_count": 2,
   "metadata": {},
   "outputs": [],
   "source": [
    "import requests as re\n",
    "from bs4 import BeautifulSoup as bs\n",
    "import pandas as pd\n",
    "import sqlite3 as lite"
   ]
  },
  {
   "cell_type": "code",
   "execution_count": 3,
   "metadata": {},
   "outputs": [],
   "source": [
    "url_initial = \"https://pt.wikisource.org/wiki/Categoria:Literatura_brasileira\""
   ]
  },
  {
   "cell_type": "code",
   "execution_count": 4,
   "metadata": {},
   "outputs": [],
   "source": [
    "response = re.get(url_initial)\n",
    "soup = bs(response.text, 'html5lib')\n",
    "links = soup.find('div', class_='mw-category').find_all('a')"
   ]
  },
  {
   "cell_type": "code",
   "execution_count": 5,
   "metadata": {},
   "outputs": [],
   "source": [
    "def f_links(url):\n",
    "    response = re.get(url)\n",
    "    soup = bs(response.text, 'html5lib')\n",
    "    #links = soup.find('div', class_='content').find_all('a')\n",
    "    links = soup.find_all('a')\n",
    "    return links"
   ]
  },
  {
   "cell_type": "code",
   "execution_count": 92,
   "metadata": {},
   "outputs": [],
   "source": [
    "links = d['profundidade_2']"
   ]
  },
  {
   "cell_type": "code",
   "execution_count": 23,
   "metadata": {},
   "outputs": [],
   "source": [
    "def buscar(chave, profundidade=1):\n",
    "    dic = {'profundidade_%s'%i: [] for i in range(profundidade+1)}\n",
    "    dic['profundidade_0'] = links\n",
    "    for key in range(1, profundidade+1):\n",
    "        for a in dic['profundidade_%s'%(key-1)]:\n",
    "            try:\n",
    "                if a['href'][:5] == '/wiki':\n",
    "                    link = 'https://pt.m.wikisource.org' + a['href']\n",
    "                elif 'https://pt' in a['href']:\n",
    "                    link = a['href']\n",
    "                    dic['profundidade_%s'%(key)].extend(f_links(link))\n",
    "            except KeyError:\n",
    "                pass\n",
    "    return dic"
   ]
  },
  {
   "cell_type": "code",
   "execution_count": 93,
   "metadata": {},
   "outputs": [],
   "source": [
    "b = buscar('qualquer coisa', 1)"
   ]
  },
  {
   "cell_type": "code",
   "execution_count": 96,
   "metadata": {},
   "outputs": [
    {
     "data": {
      "text/plain": [
       "825708"
      ]
     },
     "execution_count": 96,
     "metadata": {},
     "output_type": "execute_result"
    }
   ],
   "source": [
    "len(b['profundidade_1'])"
   ]
  },
  {
   "cell_type": "code",
   "execution_count": 28,
   "metadata": {},
   "outputs": [
    {
     "data": {
      "text/plain": [
       "31100"
      ]
     },
     "execution_count": 28,
     "metadata": {},
     "output_type": "execute_result"
    }
   ],
   "source": [
    "len(a['profundidade_1'])#.keys()"
   ]
  },
  {
   "cell_type": "code",
   "execution_count": 60,
   "metadata": {},
   "outputs": [
    {
     "data": {
      "text/plain": [
       "31100"
      ]
     },
     "execution_count": 60,
     "metadata": {},
     "output_type": "execute_result"
    }
   ],
   "source": [
    "d['profundidade_2'] = a['profundidade_1']"
   ]
  },
  {
   "cell_type": "code",
   "execution_count": 97,
   "metadata": {},
   "outputs": [],
   "source": [
    "lista = []\n",
    "lista.extend(d['profundidade_0'])\n",
    "lista.extend(d['profundidade_1'])\n",
    "lista.extend(d['profundidade_2'])\n",
    "lista.extend(b['profundidade_1'])"
   ]
  },
  {
   "cell_type": "code",
   "execution_count": 98,
   "metadata": {},
   "outputs": [],
   "source": [
    "dic_dt = {'titulo': [], 'link': []}"
   ]
  },
  {
   "cell_type": "code",
   "execution_count": 99,
   "metadata": {},
   "outputs": [],
   "source": [
    "for tag in lista:\n",
    "    try:\n",
    "        if 'https://' in tag['href']:\n",
    "            dic_dt['titulo'].append(tag['title'])\n",
    "            dic_dt['link'].append(tag['href'])\n",
    "        elif tag['href'][:5] == '/wiki':\n",
    "            dic_dt['titulo'].append(tag['title'])\n",
    "            dic_dt['link'].append('https://pt.m.wikisource.org' + tag['href'])\n",
    "    except:\n",
    "        pass"
   ]
  },
  {
   "cell_type": "code",
   "execution_count": 100,
   "metadata": {},
   "outputs": [
    {
     "data": {
      "text/plain": [
       "528214"
      ]
     },
     "execution_count": 100,
     "metadata": {},
     "output_type": "execute_result"
    }
   ],
   "source": [
    "len(dic_dt['titulo'])\n",
    "len(dic_dt['link'])"
   ]
  },
  {
   "cell_type": "code",
   "execution_count": 101,
   "metadata": {},
   "outputs": [],
   "source": [
    "data = pd.DataFrame(dic_dt)"
   ]
  },
  {
   "cell_type": "code",
   "execution_count": 102,
   "metadata": {},
   "outputs": [
    {
     "data": {
      "text/html": [
       "<div>\n",
       "<style scoped>\n",
       "    .dataframe tbody tr th:only-of-type {\n",
       "        vertical-align: middle;\n",
       "    }\n",
       "\n",
       "    .dataframe tbody tr th {\n",
       "        vertical-align: top;\n",
       "    }\n",
       "\n",
       "    .dataframe thead th {\n",
       "        text-align: right;\n",
       "    }\n",
       "</style>\n",
       "<table border=\"1\" class=\"dataframe\">\n",
       "  <thead>\n",
       "    <tr style=\"text-align: right;\">\n",
       "      <th></th>\n",
       "      <th>titulo</th>\n",
       "      <th>link</th>\n",
       "    </tr>\n",
       "  </thead>\n",
       "  <tbody>\n",
       "    <tr>\n",
       "      <th>0</th>\n",
       "      <td>Categoria:A Patria Brazileira</td>\n",
       "      <td>https://pt.m.wikisource.org/wiki/Categoria:A_P...</td>\n",
       "    </tr>\n",
       "    <tr>\n",
       "      <th>1</th>\n",
       "      <td>Categoria:Arcadismo brasileiro</td>\n",
       "      <td>https://pt.m.wikisource.org/wiki/Categoria:Arc...</td>\n",
       "    </tr>\n",
       "    <tr>\n",
       "      <th>2</th>\n",
       "      <td>Categoria:Através do Brasil</td>\n",
       "      <td>https://pt.m.wikisource.org/wiki/Categoria:Atr...</td>\n",
       "    </tr>\n",
       "    <tr>\n",
       "      <th>3</th>\n",
       "      <td>Categoria:Barroco brasileiro</td>\n",
       "      <td>https://pt.m.wikisource.org/wiki/Categoria:Bar...</td>\n",
       "    </tr>\n",
       "    <tr>\n",
       "      <th>4</th>\n",
       "      <td>Categoria:Contos brasileiros</td>\n",
       "      <td>https://pt.m.wikisource.org/wiki/Categoria:Con...</td>\n",
       "    </tr>\n",
       "    <tr>\n",
       "      <th>...</th>\n",
       "      <td>...</td>\n",
       "      <td>...</td>\n",
       "    </tr>\n",
       "    <tr>\n",
       "      <th>528209</th>\n",
       "      <td>Thể loại:Sân khấu Brasil — vietnamita</td>\n",
       "      <td>https://vi.wikipedia.org/wiki/Th%E1%BB%83_lo%E...</td>\n",
       "    </tr>\n",
       "    <tr>\n",
       "      <th>528210</th>\n",
       "      <td>Editar hiperligações interlínguas</td>\n",
       "      <td>https://www.wikidata.org/wiki/Special:EntityPa...</td>\n",
       "    </tr>\n",
       "    <tr>\n",
       "      <th>528211</th>\n",
       "      <td>m:Privacy policy/pt-br</td>\n",
       "      <td>https://meta.wikimedia.org/wiki/Privacy_policy...</td>\n",
       "    </tr>\n",
       "    <tr>\n",
       "      <th>528212</th>\n",
       "      <td>Wikipédia:Sobre</td>\n",
       "      <td>https://pt.m.wikisource.org/wiki/Wikip%C3%A9di...</td>\n",
       "    </tr>\n",
       "    <tr>\n",
       "      <th>528213</th>\n",
       "      <td>Wikipédia:Aviso geral</td>\n",
       "      <td>https://pt.m.wikisource.org/wiki/Wikip%C3%A9di...</td>\n",
       "    </tr>\n",
       "  </tbody>\n",
       "</table>\n",
       "<p>528214 rows × 2 columns</p>\n",
       "</div>"
      ],
      "text/plain": [
       "                                       titulo  \\\n",
       "0               Categoria:A Patria Brazileira   \n",
       "1              Categoria:Arcadismo brasileiro   \n",
       "2                 Categoria:Através do Brasil   \n",
       "3                Categoria:Barroco brasileiro   \n",
       "4                Categoria:Contos brasileiros   \n",
       "...                                       ...   \n",
       "528209  Thể loại:Sân khấu Brasil — vietnamita   \n",
       "528210      Editar hiperligações interlínguas   \n",
       "528211                 m:Privacy policy/pt-br   \n",
       "528212                        Wikipédia:Sobre   \n",
       "528213                  Wikipédia:Aviso geral   \n",
       "\n",
       "                                                     link  \n",
       "0       https://pt.m.wikisource.org/wiki/Categoria:A_P...  \n",
       "1       https://pt.m.wikisource.org/wiki/Categoria:Arc...  \n",
       "2       https://pt.m.wikisource.org/wiki/Categoria:Atr...  \n",
       "3       https://pt.m.wikisource.org/wiki/Categoria:Bar...  \n",
       "4       https://pt.m.wikisource.org/wiki/Categoria:Con...  \n",
       "...                                                   ...  \n",
       "528209  https://vi.wikipedia.org/wiki/Th%E1%BB%83_lo%E...  \n",
       "528210  https://www.wikidata.org/wiki/Special:EntityPa...  \n",
       "528211  https://meta.wikimedia.org/wiki/Privacy_policy...  \n",
       "528212  https://pt.m.wikisource.org/wiki/Wikip%C3%A9di...  \n",
       "528213  https://pt.m.wikisource.org/wiki/Wikip%C3%A9di...  \n",
       "\n",
       "[528214 rows x 2 columns]"
      ]
     },
     "execution_count": 102,
     "metadata": {},
     "output_type": "execute_result"
    }
   ],
   "source": [
    "data"
   ]
  },
  {
   "cell_type": "code",
   "execution_count": 105,
   "metadata": {},
   "outputs": [],
   "source": [
    "from sqlalchemy import create_engine\n",
    "engine = create_engine('sqlite:///links.db', echo=False)"
   ]
  },
  {
   "cell_type": "code",
   "execution_count": 107,
   "metadata": {},
   "outputs": [],
   "source": [
    "data['titulo'].to_sql('titulo', con=engine)"
   ]
  },
  {
   "cell_type": "code",
   "execution_count": 109,
   "metadata": {},
   "outputs": [],
   "source": [
    "data['link'].to_sql('link', con=engine)"
   ]
  }
 ],
 "metadata": {
  "kernelspec": {
   "display_name": "Python 3",
   "language": "python",
   "name": "python3"
  },
  "language_info": {
   "codemirror_mode": {
    "name": "ipython",
    "version": 3
   },
   "file_extension": ".py",
   "mimetype": "text/x-python",
   "name": "python",
   "nbconvert_exporter": "python",
   "pygments_lexer": "ipython3",
   "version": "3.6.9"
  }
 },
 "nbformat": 4,
 "nbformat_minor": 4
}
