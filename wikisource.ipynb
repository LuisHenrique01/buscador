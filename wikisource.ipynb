{
 "cells": [
  {
   "cell_type": "code",
   "execution_count": 2,
   "metadata": {},
   "outputs": [],
   "source": [
    "import requests as re\n",
    "from bs4 import BeautifulSoup as bs\n",
    "import pandas as pd"
   ]
  },
  {
   "cell_type": "code",
   "execution_count": 3,
   "metadata": {},
   "outputs": [],
   "source": [
    "url_initial = \"https://pt.wikisource.org/wiki/Categoria:Literatura_brasileira\""
   ]
  },
  {
   "cell_type": "code",
   "execution_count": 4,
   "metadata": {},
   "outputs": [],
   "source": [
    "response = re.get(url_initial)\n",
    "soup = bs(response.text, 'html5lib')\n",
    "links = soup.find('div', class_='mw-category').find_all('a')"
   ]
  },
  {
   "cell_type": "code",
   "execution_count": 5,
   "metadata": {},
   "outputs": [],
   "source": [
    "def f_links(url):\n",
    "    response = re.get(url)\n",
    "    soup = bs(response.text, 'html5lib')\n",
    "    #links = soup.find('div', class_='content').find_all('a')\n",
    "    links = soup.find_all('a')\n",
    "    return links"
   ]
  },
  {
   "cell_type": "code",
   "execution_count": 7,
   "metadata": {},
   "outputs": [],
   "source": [
    "def buscar(chave, profundidade=1):\n",
    "    dic = {'profundidade_%s'%i: [] for i in range(profundidade+1)}\n",
    "    dic['profundidade_0'] = links\n",
    "    for key in range(1, profundidade+1):\n",
    "        for a in dic['profundidade_%s'%(key-1)]:\n",
    "            try:\n",
    "                if a['href'][:5] == '/wiki':\n",
    "                    link = 'https://pt.m.wikisource.org' + a['href']\n",
    "                elif 'https://pt' in a['href']:\n",
    "                    link = a['href']\n",
    "                dic['profundidade_%s'%(key)].extend(f_links(link))\n",
    "            except KeyError:\n",
    "                pass\n",
    "    return dic"
   ]
  },
  {
   "cell_type": "code",
   "execution_count": null,
   "metadata": {},
   "outputs": [],
   "source": [
    "d = buscar('qualquer coisa', 2)"
   ]
  },
  {
   "cell_type": "code",
   "execution_count": null,
   "metadata": {},
   "outputs": [],
   "source": [
    "d"
   ]
  }
 ],
 "metadata": {
  "kernelspec": {
   "display_name": "Python 3",
   "language": "python",
   "name": "python3"
  },
  "language_info": {
   "codemirror_mode": {
    "name": "ipython",
    "version": 3
   },
   "file_extension": ".py",
   "mimetype": "text/x-python",
   "name": "python",
   "nbconvert_exporter": "python",
   "pygments_lexer": "ipython3",
   "version": "3.6.9"
  }
 },
 "nbformat": 4,
 "nbformat_minor": 4
}
